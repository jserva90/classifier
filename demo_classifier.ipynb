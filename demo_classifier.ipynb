{
 "cells": [
  {
   "cell_type": "markdown",
   "metadata": {},
   "source": [
    "# Legal Clause Classifier Demo\n",
    "\n",
    "This notebook demonstrates the capabilities of the legal clause classifier."
   ]
  },
  {
   "cell_type": "code",
   "execution_count": null,
   "metadata": {},
   "outputs": [],
   "source": [
    "# Import the classifier\n",
    "import os\n",
    "import json\n",
    "from classifier import classify_clauses, ModelType, DEFAULT_CLAUSE_TYPES"
   ]
  },
  {
   "cell_type": "code",
   "execution_count": 2,
   "metadata": {},
   "outputs": [],
   "source": [
    "# Check if OpenAI API key is set\n",
    "if not os.environ.get(\"OPENAI_API_KEY\"):\n",
    "    print(\"Warning: OPENAI_API_KEY environment variable is not set.\")\n",
    "    print(\"Please set it with: %env OPENAI_API_KEY=your_api_key_here\")"
   ]
  },
  {
   "cell_type": "markdown",
   "metadata": {},
   "source": [
    "## Basic Classification\n",
    "\n",
    "Let's start with a simple example of classifying a legal text."
   ]
  },
  {
   "cell_type": "code",
   "execution_count": 3,
   "metadata": {},
   "outputs": [
    {
     "name": "stdout",
     "output_type": "stream",
     "text": [
      "Sample Text:\n",
      "This agreement shall stay in effect until one party ends it with 30 days' notice. \n",
      "\n",
      "Both sides agree to keep information confidential for two years after the agreement ends. \n",
      "\n",
      "This agreement follows the laws of the Republic of Estonia.\n",
      "\n"
     ]
    }
   ],
   "source": [
    "# Sample legal text\n",
    "sample_text = \"\"\"This agreement shall stay in effect until one party ends it with 30 days' notice. \n",
    "\n",
    "Both sides agree to keep information confidential for two years after the agreement ends. \n",
    "\n",
    "This agreement follows the laws of the Republic of Estonia.\"\"\"\n",
    "\n",
    "# Display the text\n",
    "print(\"Sample Text:\")\n",
    "print(sample_text)\n",
    "print()"
   ]
  },
  {
   "cell_type": "code",
   "execution_count": 5,
   "metadata": {},
   "outputs": [
    {
     "name": "stderr",
     "output_type": "stream",
     "text": [
      "Sending request to model: ModelType.GPT_4\n"
     ]
    },
    {
     "name": "stdout",
     "output_type": "stream",
     "text": [
      "Metadata:\n",
      "model: ModelType.GPT_4\n",
      "clause_count: 3\n",
      "clause_types: ['Termination', 'Confidentiality', 'Governing Law', 'Payment Terms', 'Liability', 'Intellectual Property']\n",
      "\n",
      "Classification Results:\n",
      "\n",
      "Result 1:\n",
      "Clause: \"This agreement shall stay in effect until one party ends it with 30 days' notice.\"\n",
      "Label: Termination\n",
      "Confidence: 0.95 (Very High)\n",
      "Summary: Either party can end the agreement by giving 30 days' notice.\n",
      "\n",
      "Result 2:\n",
      "Clause: \"Both sides agree to keep information confidential for two years after the agreement ends.\"\n",
      "Label: Confidentiality\n",
      "Confidence: 0.98 (Very High)\n",
      "Summary: Both parties must keep information secret for two years after the agreement finishes.\n",
      "\n",
      "Result 3:\n",
      "Clause: \"This agreement follows the laws of the Republic of Estonia.\"\n",
      "Label: Governing Law\n",
      "Confidence: 0.97 (Very High)\n",
      "Summary: The laws of Estonia apply to this agreement.\n"
     ]
    },
    {
     "name": "stderr",
     "output_type": "stream",
     "text": [
      "Raw response from model: {\n",
      "  \"results\": [\n",
      "    {\n",
      "      \"clause\": \"This agreement shall stay in effect until one party ends it with 30 days' notice.\",\n",
      "      \"label\": \"Termination\",\n",
      "      \"confidence\": 0.95,\n",
      "      \"summary\": \"Ei...\n"
     ]
    }
   ],
   "source": [
    "# Classify the text\n",
    "results = classify_clauses(sample_text)\n",
    "\n",
    "# Display document summary\n",
    "if \"document_summary\" in results:\n",
    "    print(\"Document Summary:\")\n",
    "    print(results[\"document_summary\"])\n",
    "    print()\n",
    "\n",
    "# Display metadata\n",
    "if \"metadata\" in results:\n",
    "    print(\"Metadata:\")\n",
    "    for key, value in results[\"metadata\"].items():\n",
    "        print(f\"{key}: {value}\")\n",
    "    print()\n",
    "\n",
    "# Display results\n",
    "print(\"Classification Results:\")\n",
    "for i, result in enumerate(results.get(\"results\", []), 1):\n",
    "    print(f\"\\nResult {i}:\")\n",
    "    print(f\"Clause: \\\"{result.get('clause', 'N/A')}\\\"\")\n",
    "    print(f\"Label: {result.get('label', 'N/A')}\")\n",
    "    print(f\"Confidence: {result.get('confidence', 'N/A')} ({result.get('confidence_level', 'N/A')})\")\n",
    "    print(f\"Summary: {result.get('summary', 'N/A')}\")"
   ]
  },
  {
   "cell_type": "markdown",
   "metadata": {},
   "source": [
    "## Custom Clause Types\n",
    "\n",
    "You can specify custom clause types to look for."
   ]
  },
  {
   "cell_type": "code",
   "execution_count": 6,
   "metadata": {},
   "outputs": [
    {
     "name": "stderr",
     "output_type": "stream",
     "text": [
      "Sending request to model: ModelType.GPT_4\n"
     ]
    },
    {
     "name": "stdout",
     "output_type": "stream",
     "text": [
      "Classification Results with Custom Clause Types:\n",
      "\n",
      "Result 1:\n",
      "Clause: \"Payment shall be made within 30 days of invoice receipt.\"\n",
      "Label: Payment\n",
      "Confidence: 0.98 (Very High)\n",
      "Summary: The buyer must pay within 30 days after receiving the invoice.\n",
      "\n",
      "Result 2:\n",
      "Clause: \"Delivery shall be completed within 14 days of order confirmation.\"\n",
      "Label: Delivery\n",
      "Confidence: 0.98 (Very High)\n",
      "Summary: The goods or services must be delivered within 14 days after the order is confirmed.\n",
      "\n",
      "Result 3:\n",
      "Clause: \"The supplier warrants that the goods will be free from defects for a period of 12 months.\"\n",
      "Label: Warranty\n",
      "Confidence: 0.99 (Very High)\n",
      "Summary: The supplier guarantees the goods will not have defects for 12 months.\n",
      "\n",
      "Result 4:\n",
      "Clause: \"This agreement may be terminated by either party with 60 days' written notice.\"\n",
      "Label: Termination\n",
      "Confidence: 0.98 (Very High)\n",
      "Summary: Either party can end the agreement by giving 60 days' written notice.\n"
     ]
    },
    {
     "name": "stderr",
     "output_type": "stream",
     "text": [
      "Raw response from model: {\n",
      "  \"results\": [\n",
      "    {\n",
      "      \"clause\": \"Payment shall be made within 30 days of invoice receipt.\",\n",
      "      \"label\": \"Payment\",\n",
      "      \"confidence\": 0.98,\n",
      "      \"summary\": \"The buyer must pay within 30 da...\n"
     ]
    }
   ],
   "source": [
    "# Define custom clause types\n",
    "custom_clause_types = [\"Payment\", \"Delivery\", \"Warranty\", \"Termination\"]\n",
    "\n",
    "# Sample text with payment and delivery clauses\n",
    "custom_text = \"\"\"Payment shall be made within 30 days of invoice receipt.\n",
    "\n",
    "Delivery shall be completed within 14 days of order confirmation.\n",
    "\n",
    "The supplier warrants that the goods will be free from defects for a period of 12 months.\n",
    "\n",
    "This agreement may be terminated by either party with 60 days' written notice.\"\"\"\n",
    "\n",
    "# Classify with custom clause types\n",
    "custom_results = classify_clauses(custom_text, clause_types=custom_clause_types)\n",
    "\n",
    "# Display results\n",
    "print(\"Classification Results with Custom Clause Types:\")\n",
    "for i, result in enumerate(custom_results.get(\"results\", []), 1):\n",
    "    print(f\"\\nResult {i}:\")\n",
    "    print(f\"Clause: \\\"{result.get('clause', 'N/A')}\\\"\")\n",
    "    print(f\"Label: {result.get('label', 'N/A')}\")\n",
    "    print(f\"Confidence: {result.get('confidence', 'N/A')} ({result.get('confidence_level', 'N/A')})\")\n",
    "    print(f\"Summary: {result.get('summary', 'N/A')}\")"
   ]
  },
  {
   "cell_type": "markdown",
   "metadata": {},
   "source": [
    "## Model Comparison\n",
    "\n",
    "Compare the results from different models."
   ]
  },
  {
   "cell_type": "code",
   "execution_count": 7,
   "metadata": {},
   "outputs": [
    {
     "name": "stderr",
     "output_type": "stream",
     "text": [
      "Sending request to model: gpt-4.1\n",
      "Raw response from model: {\n",
      "  \"clause\": \"This agreement shall be governed by the laws of the State of California.\",\n",
      "  \"label\": \"Governing Law\",\n",
      "  \"confidence\": 0.97,\n",
      "  \"summary\": \"California law applies to this agreement.\"\n",
      "}...\n",
      "Could not parse results from model response, using pattern matching as fallback\n",
      "Sending request to model: gpt-4.1-mini-2025-04-14\n"
     ]
    },
    {
     "name": "stdout",
     "output_type": "stream",
     "text": [
      "GPT-4.1 Results:\n",
      "Label: Governing Law\n",
      "Confidence: 0.8 (High)\n",
      "Summary: Legal clause related to Governing Law\n",
      "\n",
      "GPT-4.1-mini Results:\n",
      "Label: Governing Law\n",
      "Confidence: 0.8 (High)\n",
      "Summary: Legal clause related to Governing Law\n"
     ]
    },
    {
     "name": "stderr",
     "output_type": "stream",
     "text": [
      "Raw response from model: \n",
      "{\n",
      "  \"clause\": \"This agreement shall be governed by the laws of the State of California.\",\n",
      "  \"label\": \"Governing Law\",\n",
      "  \"confidence\": 0.97,\n",
      "  \"summary\": \"California law applies to this agreement.\"\n",
      "}...\n",
      "Could not parse results from model response, using pattern matching as fallback\n"
     ]
    }
   ],
   "source": [
    "# Sample text for comparison\n",
    "comparison_text = \"This agreement shall be governed by the laws of the State of California.\"\n",
    "\n",
    "# Classify with GPT-4.1\n",
    "gpt41_results = classify_clauses(comparison_text, model=\"gpt-4.1\")\n",
    "\n",
    "# Classify with GPT-4.1-mini\n",
    "gpt41mini_results = classify_clauses(comparison_text, model=\"gpt-4.1-mini-2025-04-14\")\n",
    "\n",
    "# Display GPT-4.1 results\n",
    "print(\"GPT-4.1 Results:\")\n",
    "for result in gpt41_results.get(\"results\", []):\n",
    "    print(f\"Label: {result.get('label', 'N/A')}\")\n",
    "    print(f\"Confidence: {result.get('confidence', 'N/A')} ({result.get('confidence_level', 'N/A')})\")\n",
    "    print(f\"Summary: {result.get('summary', 'N/A')}\")\n",
    "    print()\n",
    "\n",
    "# Display GPT-4.1-mini results\n",
    "print(\"GPT-4.1-mini Results:\")\n",
    "for result in gpt41mini_results.get(\"results\", []):\n",
    "    print(f\"Label: {result.get('label', 'N/A')}\")\n",
    "    print(f\"Confidence: {result.get('confidence', 'N/A')} ({result.get('confidence_level', 'N/A')})\")\n",
    "    print(f\"Summary: {result.get('summary', 'N/A')}\")"
   ]
  },
  {
   "cell_type": "markdown",
   "metadata": {},
   "source": [
    "## Analyzing a Complex Contract\n",
    "\n",
    "Let's analyze a more complex contract with multiple clauses."
   ]
  },
  {
   "cell_type": "code",
   "execution_count": 8,
   "metadata": {},
   "outputs": [
    {
     "name": "stderr",
     "output_type": "stream",
     "text": [
      "Sending request to model: ModelType.GPT_4\n"
     ]
    },
    {
     "name": "stdout",
     "output_type": "stream",
     "text": [
      "Classification Results:\n",
      "\n",
      "1. Intellectual Property (Moderate)\n",
      "   Clause: \"Consultant agrees to provide the following services: technical consulting and advisory services related to software development.\"\n",
      "   Summary: The consultant will provide technical consulting and advisory services for software development.\n",
      "\n",
      "2. Payment Terms (Very High)\n",
      "   Clause: \"Client shall pay Consultant 150 per hour, invoiced monthly.\"\n",
      "   Summary: The client will pay the consultant $150 per hour, billed monthly.\n",
      "\n",
      "3. Payment Terms (Very High)\n",
      "   Clause: \"Payment is due within 15 days of invoice receipt.\"\n",
      "   Summary: The client must pay invoices within 15 days of receiving them.\n",
      "\n",
      "4. Termination (High)\n",
      "   Clause: \"This Agreement shall commence on the Effective Date and continue for a period of 12 months, unless terminated earlier.\"\n",
      "   Summary: The agreement lasts 12 months unless ended sooner.\n",
      "\n",
      "5. Termination (Very High)\n",
      "   Clause: \"Either party may terminate this Agreement with 30 days' written notice.\"\n",
      "   Summary: Either party can end the agreement with 30 days written notice.\n",
      "\n",
      "6. Payment Terms (Very High)\n",
      "   Clause: \"Client shall pay for all services rendered up to the termination date.\"\n",
      "   Summary: The client must pay for all services provided up to when the agreement ends.\n",
      "\n",
      "7. Confidentiality (Very High)\n",
      "   Clause: \"Consultant shall maintain the confidentiality of all proprietary information for a period of 5 years after termination of this Agreement.\"\n",
      "   Summary: The consultant must keep proprietary information secret for 5 years after the agreement ends.\n",
      "\n",
      "8. Intellectual Property (Very High)\n",
      "   Clause: \"All work product created by Consultant shall be the sole property of Client.\"\n",
      "   Summary: Anything the consultant creates belongs entirely to the client.\n",
      "\n",
      "9. Governing Law (Very High)\n",
      "   Clause: \"This Agreement shall be governed by the laws of the State of Delaware.\"\n",
      "   Summary: Delaware law applies to this agreement.\n",
      "\n",
      "10. Liability (Very High)\n",
      "   Clause: \"Consultant's liability shall be limited to the total fees paid under this Agreement.\"\n",
      "   Summary: The consultant can only be held liable up to the amount paid under the agreement.\n"
     ]
    },
    {
     "name": "stderr",
     "output_type": "stream",
     "text": [
      "Raw response from model: {\n",
      "  \"results\": [\n",
      "    {\n",
      "      \"clause\": \"Consultant agrees to provide the following services: technical consulting and advisory services related to software development.\",\n",
      "      \"label\": \"Intellectual ...\n"
     ]
    }
   ],
   "source": [
    "# Complex contract example\n",
    "complex_contract = \"\"\"\n",
    "CONSULTING AGREEMENT\n",
    "\n",
    "1. SERVICES. Consultant agrees to provide the following services: technical consulting and advisory services related to software development.\n",
    "\n",
    "2. PAYMENT. Client shall pay Consultant $150 per hour, invoiced monthly. Payment is due within 15 days of invoice receipt.\n",
    "\n",
    "3. TERM. This Agreement shall commence on the Effective Date and continue for a period of 12 months, unless terminated earlier.\n",
    "\n",
    "4. TERMINATION. Either party may terminate this Agreement with 30 days' written notice. Client shall pay for all services rendered up to the termination date.\n",
    "\n",
    "5. CONFIDENTIALITY. Consultant shall maintain the confidentiality of all proprietary information for a period of 5 years after termination of this Agreement.\n",
    "\n",
    "6. INTELLECTUAL PROPERTY. All work product created by Consultant shall be the sole property of Client.\n",
    "\n",
    "7. GOVERNING LAW. This Agreement shall be governed by the laws of the State of Delaware.\n",
    "\n",
    "8. LIABILITY. Consultant's liability shall be limited to the total fees paid under this Agreement.\n",
    "\"\"\"\n",
    "\n",
    "# Classify the complex contract\n",
    "complex_results = classify_clauses(complex_contract)\n",
    "\n",
    "# Display document summary\n",
    "if \"document_summary\" in complex_results:\n",
    "    print(\"Document Summary:\")\n",
    "    print(complex_results[\"document_summary\"])\n",
    "    print()\n",
    "\n",
    "# Display results in a more compact format\n",
    "print(\"Classification Results:\")\n",
    "for i, result in enumerate(complex_results.get(\"results\", []), 1):\n",
    "    print(f\"\\n{i}. {result.get('label', 'N/A')} ({result.get('confidence_level', 'N/A')})\")\n",
    "    print(f\"   Clause: \\\"{result.get('clause', 'N/A')}\\\"\")\n",
    "    print(f\"   Summary: {result.get('summary', 'N/A')}\")"
   ]
  },
  {
   "cell_type": "markdown",
   "metadata": {},
   "source": [
    "## Visualizing Results\n",
    "\n",
    "Let's create a simple visualization of the classification results."
   ]
  },
  {
   "cell_type": "code",
   "execution_count": 9,
   "metadata": {},
   "outputs": [
    {
     "data": {
      "image/png": "[encoded data removed]",
      "text/plain": [
       "<Figure size 1000x600 with 2 Axes>"
      ]
     },
     "metadata": {},
     "output_type": "display_data"
    },
    {
     "data": {
      "image/png": "[encoded data removed]",
      "text/plain": [
       "<Figure size 640x480 with 1 Axes>"
      ]
     },
     "metadata": {},
     "output_type": "display_data"
    }
   ],
   "source": [
    "# Import visualization libraries\n",
    "import matplotlib.pyplot as plt\n",
    "import pandas as pd\n",
    "\n",
    "# Extract data from complex contract results\n",
    "labels = []\n",
    "confidences = []\n",
    "\n",
    "for result in complex_results.get(\"results\", []):\n",
    "    labels.append(result.get(\"label\", \"Unknown\"))\n",
    "    confidences.append(result.get(\"confidence\", 0))\n",
    "\n",
    "# Create a DataFrame\n",
    "df = pd.DataFrame({\n",
    "    \"Label\": labels,\n",
    "    \"Confidence\": confidences\n",
    "})\n",
    "\n",
    "# Group by label and count\n",
    "label_counts = df[\"Label\"].value_counts()\n",
    "\n",
    "# Plot the results\n",
    "plt.figure(figsize=(10, 6))\n",
    "\n",
    "# Bar chart of clause types\n",
    "plt.subplot(1, 2, 1)\n",
    "label_counts.plot(kind=\"bar\")\n",
    "plt.title(\"Clause Types in Contract\")\n",
    "plt.xlabel(\"Clause Type\")\n",
    "plt.ylabel(\"Count\")\n",
    "plt.xticks(rotation=45)\n",
    "\n",
    "# Box plot of confidence scores\n",
    "plt.subplot(1, 2, 2)\n",
    "df.boxplot(column=\"Confidence\", by=\"Label\")\n",
    "plt.title(\"Confidence Scores by Clause Type\")\n",
    "plt.suptitle(\"\")\n",
    "plt.xlabel(\"Clause Type\")\n",
    "plt.ylabel(\"Confidence Score\")\n",
    "plt.xticks(rotation=45)\n",
    "\n",
    "plt.tight_layout()\n",
    "plt.show()"
   ]
  },
  {
   "cell_type": "code",
   "execution_count": null,
   "metadata": {},
   "outputs": [],
   "source": []
  }
 ],
 "metadata": {
  "kernelspec": {
   "display_name": "classifier",
   "language": "python",
   "name": "python3"
  },
  "language_info": {
   "codemirror_mode": {
    "name": "ipython",
    "version": 3
   },
   "file_extension": ".py",
   "mimetype": "text/x-python",
   "name": "python",
   "nbconvert_exporter": "python",
   "pygments_lexer": "ipython3",
   "version": "3.12.2"
  }
 },
 "nbformat": 4,
 "nbformat_minor": 4
}
